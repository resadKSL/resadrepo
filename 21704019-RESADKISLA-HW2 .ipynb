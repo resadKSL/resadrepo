{
 "cells": [
  {
   "cell_type": "markdown",
   "metadata": {},
   "source": [
    "Hoşgeldiniz!\n",
    "Eğer bir üçgenin hipotenüsünü hesaplatmak istiyor iseniz 1 değerini,\n",
    "Eğer girdiğiniz numaraya kadar 1 den itibaren numara saydırmak istiyor iseniz 2 değerini,\n",
    "Eğer girdiğiniz 6 numaranın aritmetik ortalamasını almak istiyorsanız 3 değerini girerek bu programı kullanabilirsiniz.\n"
   ]
  },
  {
   "cell_type": "code",
   "execution_count": null,
   "metadata": {},
   "outputs": [],
   "source": [
    "a=float(input(\"Programı kullanabilmek için 1,2,3 değerlerinden birini giriniz: \"))\n",
    "if a==1:\n",
    "    print(\"1. Programı seçtiniz, bu programda vereceğiniz 2 değer ile hipotenüs hesabı yaptırabileceksiniz\")\n",
    "    a=float(input(\"İlk değeri giriniz: \"))\n",
    "    b=float(input(\"İkinci değeri giriniz: \"))\n",
    "    hipotenüs=(a**2+b**2)**(0.5)\n",
    "    print(\"Hipotenüs değeriniz: \",hipotenüs)\n",
    "elif a==2:\n",
    "    print(\"2. Programı seçtiniz, bu programda 1'den itibaren vereceğiniz değer dahil olmak üzere verdiğiniz değere kadar numara saydırabileceksiniz\")\n",
    "    x=float(input(\"Hangi numaraya kadar saydırmak istiyorsunuz? : \"))\n",
    "    i=1\n",
    "    while(i<=x):\n",
    "        print(i)\n",
    "        i=i+1\n",
    "elif a==3:\n",
    "    print(\"3. Programı seçtiniz, bu programda vereceğiniz 6 değerin aritmetik ortalama hesabını yaptırabileceksiniz\")\n",
    "    numara1=float(input(\"1. Numara için değer giriniz: \"))\n",
    "    numara2=float(input(\"2. Numara için değer giriniz: \"))\n",
    "    numara3=float(input(\"3. Numara için değer giriniz: \"))\n",
    "    numara4=float(input(\"4. Numara için değer giriniz: \"))\n",
    "    numara5=float(input(\"5. Numara için değer giriniz: \"))\n",
    "    numara6=float(input(\"6. Numara için değer giriniz: \"))\n",
    "    aritmetik_ortalama_hesabı=(numara1+numara2+numara3+numara4+numara5+numara6)/6\n",
    "    print(\"Girdiğiniz 6 değerin aritmetik ortalaması -> \", aritmetik_ortalama_hesabı)\n",
    "else:\n",
    "    print(\"Hatalı giriş yaptınız.Lütfen programı tekrar başlatıp 1,2 ve 3 değerlerinden herhangi birini girin.\")"
   ]
  },
  {
   "cell_type": "code",
   "execution_count": null,
   "metadata": {},
   "outputs": [],
   "source": []
  }
 ],
 "metadata": {
  "kernelspec": {
   "display_name": "Python 3",
   "language": "python",
   "name": "python3"
  },
  "language_info": {
   "codemirror_mode": {
    "name": "ipython",
    "version": 3
   },
   "file_extension": ".py",
   "mimetype": "text/x-python",
   "name": "python",
   "nbconvert_exporter": "python",
   "pygments_lexer": "ipython3",
   "version": "3.7.0"
  }
 },
 "nbformat": 4,
 "nbformat_minor": 2
}
