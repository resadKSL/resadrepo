{
 "cells": [
  {
   "cell_type": "code",
   "execution_count": 2,
   "metadata": {},
   "outputs": [
    {
     "name": "stdout",
     "output_type": "stream",
     "text": [
      "Enter Your Name:  reşat\n",
      "Hello reşat !\n",
      "Never forget , Simplicity is the soul of efficiency -Austin FREEMAN\n",
      "Second Order Equation -> ax**2+b*x+c\n",
      " Enter Value for a: 3\n",
      " Enter Value for b: 5\n",
      " Enter Value for c: 7\n",
      "Discriminant value is:  -59\n",
      "The first root of the equation:  (-0.8333333333333331+1.2801909579781012j)\n",
      "The second root of the equation:  (-0.8333333333333335-1.2801909579781012j)\n"
     ]
    }
   ],
   "source": [
    "person = input('Enter Your Name:  ')\n",
    "print('Hello' , person, '!')\n",
    "print('Never forget , Simplicity is the soul of efficiency -Austin FREEMAN')      \n",
    "print('Second Order Equation -> ax**2+b*x+c')\n",
    "a=int(input(\" Enter Value for a: \"))\n",
    "b=int(input(\" Enter Value for b: \"))\n",
    "c=int(input(\" Enter Value for c: \"))\n",
    "Discriminant=Δ=b**2-4*a*c\n",
    "x1= (-b+Discriminant**0.5)/(2*a)\n",
    "x2= (-b-Discriminant**0.5)/(2*a)\n",
    "print('Discriminant value is: ',Discriminant)\n",
    "print('The first root of the equation: ', x1 )\n",
    "print('The second root of the equation: ', x2 )"
   ]
  },
  {
   "cell_type": "code",
   "execution_count": null,
   "metadata": {},
   "outputs": [],
   "source": []
  }
 ],
 "metadata": {
  "kernelspec": {
   "display_name": "Python 3",
   "language": "python",
   "name": "python3"
  },
  "language_info": {
   "codemirror_mode": {
    "name": "ipython",
    "version": 3
   },
   "file_extension": ".py",
   "mimetype": "text/x-python",
   "name": "python",
   "nbconvert_exporter": "python",
   "pygments_lexer": "ipython3",
   "version": "3.6.5"
  }
 },
 "nbformat": 4,
 "nbformat_minor": 2
}
