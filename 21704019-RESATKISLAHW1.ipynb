{
 "cells": [
  {
   "cell_type": "code",
   "execution_count": 1,
   "metadata": {},
   "outputs": [
    {
     "name": "stdout",
     "output_type": "stream",
     "text": [
      "Second Order Equation -> ax^2+bx+c\n",
      " Enter Value for a: 5\n",
      " Enter Value for b: 5\n",
      " Enter Valur for c: 5\n",
      "No real root\n"
     ]
    }
   ],
   "source": [
    "print('Second Order Equation -> ax^2+bx+c')\n",
    "a=int(input(\" Enter Value for a: \"))\n",
    "b=int(input(\" Enter Value for b: \"))\n",
    "c=int(input(\" Enter Valur for c: \"))\n",
    "Discriminant=Δ=b**2-4*a*c\n",
    "x1= (-b+Discriminant**0.5)/(2*a)\n",
    "x2= (-b-Discriminant**0.5)/(2*a)\n",
    "if Discriminant<0:\n",
    "   print('No real root')\n",
    "if Discriminant==0:\n",
    "   print('There exists two coincident roots')\n",
    "   print('The first root of the equation:{}\\n The second root of the equation:{}\\n'.format(x1,x2))\n",
    "if Discriminant>0:\n",
    "   print('There exists two real root')\n",
    "   print('The first root of the equation:{}\\n The second root of the equation{}\\n'.format(x1,x2))"
   ]
  },
  {
   "cell_type": "code",
   "execution_count": null,
   "metadata": {},
   "outputs": [],
   "source": []
  }
 ],
 "metadata": {
  "kernelspec": {
   "display_name": "Python 3",
   "language": "python",
   "name": "python3"
  },
  "language_info": {
   "codemirror_mode": {
    "name": "ipython",
    "version": 3
   },
   "file_extension": ".py",
   "mimetype": "text/x-python",
   "name": "python",
   "nbconvert_exporter": "python",
   "pygments_lexer": "ipython3",
   "version": "3.6.5"
  }
 },
 "nbformat": 4,
 "nbformat_minor": 2
}
