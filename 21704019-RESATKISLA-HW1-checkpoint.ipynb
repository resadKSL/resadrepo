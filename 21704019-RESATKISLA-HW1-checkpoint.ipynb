{
 "cells": [
  {
   "cell_type": "code",
   "execution_count": null,
   "metadata": {},
   "outputs": [],
   "source": [
    "person = input('Enter Your Name:  ')\n",
    "print('Hello' , person, '!')\n",
    "print('Never forget , Simplicity is the soul of efficiency -Austin FREEMAN')      \n",
    "print('Second Order Equation -> ax**2+b*x+c')\n",
    "a=int(input(\" Enter Value for a: \"))\n",
    "b=int(input(\" Enter Value for b: \"))\n",
    "c=int(input(\" Enter Value for c: \"))\n",
    "Discriminant=Δ=b**2-4*a*c\n",
    "x1= (-b+Discriminant**0.5)/(2*a)\n",
    "x2= (-b-Discriminant**0.5)/(2*a)\n",
    "print('Discriminant value is: ',Discriminant)\n",
    "print('The first root of the equation: ', x1 )\n",
    "print('The second root of the equation: ', x2 )"
   ]
  }
 ],
 "metadata": {
  "kernelspec": {
   "display_name": "Python 3",
   "language": "python",
   "name": "python3"
  },
  "language_info": {
   "codemirror_mode": {
    "name": "ipython",
    "version": 3
   },
   "file_extension": ".py",
   "mimetype": "text/x-python",
   "name": "python",
   "nbconvert_exporter": "python",
   "pygments_lexer": "ipython3",
   "version": "3.6.5"
  }
 },
 "nbformat": 4,
 "nbformat_minor": 2
}
